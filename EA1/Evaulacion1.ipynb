{
 "cells": [
  {
   "cell_type": "markdown",
   "metadata": {},
   "source": [
    "# **EVALUACION 1 MINERIA DE DATOS 2024 (BIY7121_004V) - STARCRAFT II**"
   ]
  },
  {
   "cell_type": "code",
   "execution_count": 3,
   "metadata": {},
   "outputs": [],
   "source": [
    "# Importamos librerias\n",
    "import pandas as pd\n",
    "import matplotlib.pyplot as plt\n",
    "import numpy as np\n",
    "from sklearn.impute import KNNImputer"
   ]
  },
  {
   "cell_type": "markdown",
   "metadata": {},
   "source": [
    "## **1. BUSSINESS UNDERSTANDING**\n",
    "\n",
    "Se nos ha entregado un dataset correspondiente a información de partidas multijugador de Starcraft II, juego RTS (Real Time Strategy) lanzado en 2010 como una secuela del juego lanzado originalmente en 1998. "
   ]
  },
  {
   "cell_type": "code",
   "execution_count": 4,
   "metadata": {},
   "outputs": [],
   "source": [
    "# Cargamos el dataset\n",
    "sc2DF = pd.read_csv(\"starcraft_duoc.csv\", delimiter=';')"
   ]
  },
  {
   "cell_type": "markdown",
   "metadata": {},
   "source": [
    "## **2. DATA UNDERSTANDING**"
   ]
  },
  {
   "cell_type": "code",
   "execution_count": 5,
   "metadata": {},
   "outputs": [
    {
     "data": {
      "text/plain": [
       "(3395, 20)"
      ]
     },
     "execution_count": 5,
     "metadata": {},
     "output_type": "execute_result"
    }
   ],
   "source": [
    "sc2DF.shape"
   ]
  },
  {
   "cell_type": "code",
   "execution_count": null,
   "metadata": {},
   "outputs": [],
   "source": [
    "# Mostramos los primeros 5 registros\n",
    "sc2DF.head()"
   ]
  },
  {
   "cell_type": "code",
   "execution_count": null,
   "metadata": {},
   "outputs": [],
   "source": [
    "# Los ultimos 5 registros\n",
    "sc2DF.tail()"
   ]
  },
  {
   "cell_type": "code",
   "execution_count": null,
   "metadata": {},
   "outputs": [],
   "source": [
    "# Una vista a los tipos de datos de cada una de las columnas\n",
    "sc2DF.dtypes"
   ]
  },
  {
   "cell_type": "markdown",
   "metadata": {},
   "source": [
    "De esta revisión es posible observar lo siguiente:\n",
    "* Se da cuenta de que no existen variables categóricas en nuestro data set, por lo que no es necesario hacer un proceso de encoding de dichas variables.\n",
    "* Sin embargo, podemos observar que muchas columnas de nuestro dataset presentan problemas de formato. Dicho de otro modo, es posible notar que hay números, sean enteros (int) o decimales (float), que están bajo formato de texto (string). Se hace necesario, por tanto, hacer un tratamiento para darles el formato correcto."
   ]
  },
  {
   "cell_type": "code",
   "execution_count": null,
   "metadata": {},
   "outputs": [],
   "source": [
    "def isset(x):\n",
    "    try:\n",
    "        x\n",
    "        return True\n",
    "    except:\n",
    "        pass\n",
    "\n",
    "for column in sc2DF.columns:\n",
    "    for row in range(len(sc2DF)):\n",
    "        try:\n",
    "            if isinstance(sc2DF[column][row], str) and sc2DF[column][row][-4] == '.':\n",
    "                sc2DF[column][row] = sc2DF[column][row].replace('.', '')\n",
    "        except:\n",
    "            print(sc2DF[column][row])\n",
    "    sc2DF[column] = sc2DF[column].astype(float)\n"
   ]
  },
  {
   "cell_type": "markdown",
   "metadata": {},
   "source": [
    "### 2.1. **Limpieza y transformación**"
   ]
  },
  {
   "cell_type": "markdown",
   "metadata": {},
   "source": [
    "#### 2.1.1. **Tratamiento de valores nulos**"
   ]
  },
  {
   "cell_type": "code",
   "execution_count": null,
   "metadata": {},
   "outputs": [],
   "source": [
    "sc2DF.isna().sum()"
   ]
  },
  {
   "cell_type": "code",
   "execution_count": null,
   "metadata": {},
   "outputs": [],
   "source": [
    "# Vamos a imputar valores usando KNN\n",
    "# Crear una instancia de KNNImputer\n",
    "imputer = KNNImputer(n_neighbors=3, weights='distance') #uniform\n",
    "\n",
    "# Imputar los valores faltantes\n",
    "imputed_data = imputer.fit_transform(sc2DF)\n",
    "sc2DFImputed = pd.DataFrame(imputed_data)"
   ]
  },
  {
   "cell_type": "code",
   "execution_count": null,
   "metadata": {},
   "outputs": [],
   "source": [
    "sc2DF.isna().sum()"
   ]
  },
  {
   "cell_type": "markdown",
   "metadata": {},
   "source": [
    "#### 2.1.2 **Tratamiento de outliers**"
   ]
  },
  {
   "cell_type": "code",
   "execution_count": null,
   "metadata": {},
   "outputs": [],
   "source": []
  },
  {
   "cell_type": "markdown",
   "metadata": {},
   "source": [
    "### 2.3. **Análisis y procesamiento**"
   ]
  },
  {
   "cell_type": "code",
   "execution_count": null,
   "metadata": {},
   "outputs": [],
   "source": [
    "array = ['1.000.000', 566.32, 56.345, '897.43']\n",
    "\n",
    "for i in range(len(array)):\n",
    "    if isinstance(array[i], str):\n",
    "        # Eliminar los puntos como separadores de miles\n",
    "        array[i] = float(array[i].replace('.', ''))\n",
    "    else:\n",
    "        array[i] = float(array[i])\n",
    "\n",
    "print(array)"
   ]
  }
 ],
 "metadata": {
  "kernelspec": {
   "display_name": "Python 3",
   "language": "python",
   "name": "python3"
  },
  "language_info": {
   "codemirror_mode": {
    "name": "ipython",
    "version": 3
   },
   "file_extension": ".py",
   "mimetype": "text/x-python",
   "name": "python",
   "nbconvert_exporter": "python",
   "pygments_lexer": "ipython3",
   "version": "3.12.2"
  }
 },
 "nbformat": 4,
 "nbformat_minor": 2
}
